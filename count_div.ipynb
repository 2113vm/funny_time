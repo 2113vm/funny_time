{
 "cells": [
  {
   "cell_type": "code",
   "execution_count": 1,
   "metadata": {},
   "outputs": [],
   "source": [
    "import time"
   ]
  },
  {
   "cell_type": "code",
   "execution_count": 38,
   "metadata": {},
   "outputs": [
    {
     "name": "stdout",
     "output_type": "stream",
     "text": [
      "450000 500000\n",
      "133116675\n",
      "2.649548292160034\n"
     ]
    }
   ],
   "source": [
    "k, n = input().split()\n",
    "\n",
    "start_time = time.time()\n",
    "\n",
    "k, n = int(k), int(n)\n",
    "\n",
    "delta = n-k\n",
    "\n",
    "L = max(k, delta)\n",
    "l = min(k, delta)\n",
    "\n",
    "\n",
    "def find_simple_numbers(n):\n",
    "    simple_numbers = [2]\n",
    "    for i in range(3, n + 1, 2):\n",
    "        if (i > 10) and (i % 10 == 5):\n",
    "            continue\n",
    "        for j in simple_numbers:\n",
    "            if j * j - 1 > i:\n",
    "                simple_numbers.append(i)\n",
    "                break\n",
    "            if (i % j == 0):\n",
    "                break\n",
    "        else:\n",
    "            simple_numbers.append(i)\n",
    "    return simple_numbers\n",
    "\n",
    "simple_numbers = find_simple_numbers(n)\n",
    "\n",
    "\n",
    "# def simple_multipliers(number):\n",
    "#     multipliers = []\n",
    "#     while number != 1:\n",
    "#         for p in simple_numbers:\n",
    "#             if number % p == 0:\n",
    "#                 multipliers.append(p)\n",
    "#                 number = number / p\n",
    "#                 break\n",
    "#     return multipliers\n",
    "\n",
    "\n",
    "def primfacs(n):\n",
    "    i = 2\n",
    "    primfac = []\n",
    "    while i * i <= n:\n",
    "        while n % i == 0:\n",
    "            primfac.append(i)\n",
    "            n = n / i\n",
    "        i = i + 1\n",
    "    if n > 1:\n",
    "        primfac.append(n)\n",
    "    return primfac\n",
    "\n",
    "\n",
    "def number_dividers(res):\n",
    "    count_d = {}\n",
    "    count_div = 1\n",
    "    for r in res:\n",
    "        if r in count_d:\n",
    "            count_d[r] += 1\n",
    "        else:\n",
    "            count_d[r] = 2\n",
    "    keys = count_d.keys()\n",
    "    \n",
    "    for key in keys:\n",
    "        count_div = count_div * count_d[key]\n",
    "\n",
    "    return count_div\n",
    "\n",
    "\n",
    "up = []\n",
    "down = []\n",
    "\n",
    "\n",
    "for _ in range(L + 1, n + 1):\n",
    "    up.extend(primfacs(_))\n",
    "    \n",
    "for _ in range(1, l + 1):\n",
    "    down.extend(primfacs(_))\n",
    "\n",
    "    \n",
    "up = sorted(up, reverse=False)\n",
    "down = sorted(down, reverse=False)\n",
    "\n",
    "res = up[len(down):]\n",
    "\n",
    "len_res = len(res)\n",
    "          \n",
    "if len_res == 1:\n",
    "    print(2)\n",
    "if len_res == 0:\n",
    "    print(1)\n",
    "if len_res > 1:\n",
    "    print(number_dividers(res) % 1000000007)\n",
    "\n",
    "print(time.time() - start_time)"
   ]
  },
  {
   "cell_type": "code",
   "execution_count": null,
   "metadata": {},
   "outputs": [],
   "source": [
    "133116675"
   ]
  }
 ],
 "metadata": {
  "kernelspec": {
   "display_name": "Python 3",
   "language": "python",
   "name": "python3"
  },
  "language_info": {
   "codemirror_mode": {
    "name": "ipython",
    "version": 3
   },
   "file_extension": ".py",
   "mimetype": "text/x-python",
   "name": "python",
   "nbconvert_exporter": "python",
   "pygments_lexer": "ipython3",
   "version": "3.6.5"
  }
 },
 "nbformat": 4,
 "nbformat_minor": 2
}
